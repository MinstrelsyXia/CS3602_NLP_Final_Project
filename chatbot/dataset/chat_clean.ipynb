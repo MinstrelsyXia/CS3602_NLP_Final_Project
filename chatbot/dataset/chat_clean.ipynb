{
 "cells": [
  {
   "cell_type": "code",
   "execution_count": 2,
   "metadata": {},
   "outputs": [
    {
     "name": "stdout",
     "output_type": "stream",
     "text": [
      "匹配并删除完成。\n"
     ]
    }
   ],
   "source": [
    "import re\n",
    "\n",
    "# 文件路径\n",
    "file_path = \"/ssd/xiaxinyuan/code/CS3602_NLP_Final_Project/chatbot/dataset/CJY_chat.txt\"\n",
    "\n",
    "# 读取文件内容\n",
    "with open(file_path, 'r', encoding='utf-8') as file:\n",
    "    lines = file.readlines()\n",
    "\n",
    "# 正则表达式匹配形如 ********************2023-05-02******************** 的行\n",
    "pattern_date = re.compile(r'\\*{20}\\d{4}-\\d{2}-\\d{2}\\*{20}')\n",
    "# 匹配包含 https: 的行\n",
    "pattern_https = re.compile(r'https:')\n",
    "\n",
    "# 过滤掉匹配的行\n",
    "filtered_lines = [line for line in lines if not pattern_date.match(line) and 'http:' not in line]\n",
    "\n",
    "# 将过滤后的内容写回文件\n",
    "with open(file_path, 'w', encoding='utf-8') as file:\n",
    "    file.writelines(filtered_lines)\n",
    "\n",
    "print(\"匹配并删除完成。\")"
   ]
  },
  {
   "cell_type": "code",
   "execution_count": 7,
   "metadata": {},
   "outputs": [
    {
     "name": "stdout",
     "output_type": "stream",
     "text": [
      "表情符号删除完成。\n"
     ]
    }
   ],
   "source": [
    "import re\n",
    "\n",
    "# 文件路径\n",
    "file_path = \"/ssd/xiaxinyuan/code/CS3602_NLP_Final_Project/chatbot/dataset/CJY_chat.txt\"\n",
    "\n",
    "# 读取文件内容\n",
    "with open(file_path, 'r', encoding='utf-8') as file:\n",
    "    content = file.read()\n",
    "\n",
    "# 正则表达式匹配表情符号\n",
    "emoji_pattern = re.compile(\n",
    "    \"[\"\n",
    "    \"\\U00002700-\\U000027BF\"\n",
    "    \"\\U0001F300-\\U0001F5FF\"\n",
    "    \"]+\", flags=re.UNICODE)\n",
    "\n",
    "# 删除表情符号\n",
    "cleaned_content = emoji_pattern.sub(r'', content)\n",
    "\n",
    "# 将清理后的内容写回文件\n",
    "with open(file_path, 'w', encoding='utf-8') as file:\n",
    "    file.write(cleaned_content)\n",
    "\n",
    "print(\"表情符号删除完成。\")"
   ]
  }
 ],
 "metadata": {
  "kernelspec": {
   "display_name": "dino",
   "language": "python",
   "name": "python3"
  },
  "language_info": {
   "codemirror_mode": {
    "name": "ipython",
    "version": 3
   },
   "file_extension": ".py",
   "mimetype": "text/x-python",
   "name": "python",
   "nbconvert_exporter": "python",
   "pygments_lexer": "ipython3",
   "version": "3.10.16"
  }
 },
 "nbformat": 4,
 "nbformat_minor": 2
}
